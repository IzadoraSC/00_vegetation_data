{
 "cells": [
  {
   "cell_type": "markdown",
   "id": "2455cab9",
   "metadata": {},
   "source": [
    "# Shepherd et al., Image Segmentation\n",
    "\n",
    "RSGISLib is a set of Python modules which have been developed over the years to support our data processing needs.\n",
    "\n",
    "The modules provide a set of high level functions, at a similar level to ArcGIS / QGIS toolbox functions or tools in ENVI or Erdas Imagine. The idea is that you can join a number of functions together to undertake your analysis or put those functions within a loop and process a number of input images.\n",
    "\n",
    "In this tutorial we will look at using the Shepherd et al., image segmentation to create image objects from an input image, which can then be used for further image analysis (e.g., classification). \n"
   ]
  },
  {
   "cell_type": "markdown",
   "id": "8a1eb5b1",
   "metadata": {},
   "source": [
    "## Running Notebook\n",
    "\n",
    "The notebook has been run and saved with the outputs so you can see what the outputs should be and so the notebook and be browsed online without having to run the notebook for it to make sense. \n",
    "\n",
    "If you are running the notebook for yourself it is recommended that you clear the existing outputs which can be done by running one of the following options depending on what system you are using:\n",
    "\n",
    "**Jupyter-lab**:\n",
    "\n",
    "> \\> _Edit_ \\> _'Clear All Outputs'_\n",
    "\n",
    "**Jupyter-notebook**:\n",
    "\n",
    "> \\> _Cell_ \\> _'All Outputs'_ \\> _Clear_\n"
   ]
  },
  {
   "cell_type": "code",
   "execution_count": null,
   "id": "a9bad519",
   "metadata": {},
   "outputs": [],
   "source": [
    "!conda install -c conda-forge rsgislib==5.0.13 -y"
   ]
  },
  {
   "cell_type": "markdown",
   "id": "da4012fb",
   "metadata": {},
   "source": [
    "## 1. Import Modules"
   ]
  },
  {
   "cell_type": "code",
   "execution_count": null,
   "id": "aed895ff",
   "metadata": {},
   "outputs": [],
   "source": [
    "# Import the matplotlib plotting module and set it to work within\n",
    "# a notebook environment.\n",
    "%matplotlib inline\n",
    "import matplotlib\n",
    "import matplotlib.pyplot as plt\n",
    "\n",
    "# Import rsgislib module\n",
    "import rsgislib\n",
    "\n",
    "# Import rsgislib plotting module to help\n",
    "# visualising the data\n",
    "import rsgislib.tools.mapping\n",
    "\n",
    "# Import shepherd segmentation module\n",
    "from rsgislib.segmentation import shepherdseg"
   ]
  },
  {
   "cell_type": "markdown",
   "id": "4fe1cc16",
   "metadata": {},
   "source": [
    "## 2. Visualise Input Image"
   ]
  },
  {
   "cell_type": "code",
   "execution_count": null,
   "id": "59686af6",
   "metadata": {},
   "outputs": [],
   "source": [
    "input_img = \"../data/sen2_20210527_aber.tif\"\n",
    "input_img = ''\n",
    "# Create a plot using the matplotlib library\n",
    "fig, ax = plt.subplots(figsize=(10, 10))\n",
    "\n",
    "# Plot the image data using bands 8, 9, 3 (NIR, SWIR1, Red)\n",
    "# which produces a good false colour visualisation which is\n",
    "# good at picking out vegetation. If you want a true colour\n",
    "# (i.e., Red, Green, Blue) visualisation change the bands to\n",
    "# [3, 2, 1]\n",
    "\n",
    "rsgislib.tools.mapping.create_raster_img_map(ax, \n",
    "                                             input_img, \n",
    "                                             img_bands=[8, 9, 3], \n",
    "                                             img_stch=rsgislib.IMG_STRETCH_STDEV)\n"
   ]
  },
  {
   "cell_type": "markdown",
   "id": "98c81b77",
   "metadata": {},
   "source": [
    "## 3. Run Shepherd et al., Segmentation\n",
    "\n",
    "Please note the output format needs to be an image file format which support Raster Attribute Tables (RATs), which basically means using either KEA or HFA (i.e., the Erdas Imagine \\*.img format). For the majority of use cases you will most likely want to use the KEA file format.\n"
   ]
  },
  {
   "cell_type": "code",
   "execution_count": null,
   "id": "8aa47570",
   "metadata": {},
   "outputs": [],
   "source": [
    "out_clumps_img = \"sen2_20210527_aber_segs.kea\"\n",
    "out_mean_img = \"sen2_20210527_aber_meanimg.kea\"\n",
    "tmp_dir = \"tmp\"\n",
    "\n",
    "shepherdseg.run_shepherd_segmentation(\n",
    "    input_img,\n",
    "    out_clumps_img,\n",
    "    out_mean_img,\n",
    "    tmp_dir,\n",
    "    gdalformat=\"KEA\",  # Output file format\n",
    "    calc_stats=True,  # Calculate statistics on the output images\n",
    "    no_stretch=False,  # Normalise the input bands by applying a 2 standard devation stretch\n",
    "    no_delete=False,  # Delete the temporary files created during the processing\n",
    "    num_clusters=60,  # The number of clusters (k) for the initial kMeans clustering\n",
    "    min_n_pxls=100,  # Minimum number of pixels within a clump (segment)\n",
    "    dist_thres=100,\n",
    "    bands=[8, 9, 3],  # Just use bands 8 (NIR), 9 (SWIR) and 3 (Red)\n",
    "    sampling=100,  # Speed up the kMeans clustering by only using every 100th pixel.\n",
    "    km_max_iter=200,  # Maximum number of kMeans iterations\n",
    "    process_in_mem=True,  # Do the process using in-memory datasets rather than to disk\n",
    "    save_process_stats=False,\n",
    "    img_stretch_stats=\"\",\n",
    "    kmeans_centres=\"\",\n",
    "    img_stats_json_file=\"\",\n",
    ")"
   ]
  },
  {
   "cell_type": "markdown",
   "id": "68fde426",
   "metadata": {},
   "source": [
    "## 4. Visualise the Segmentation\n",
    "\n",
    "Firstly, we will visualise the raster clumps which are outputted from the segmentation algorithm. These are randomly assigned a colour so the clumps can be seen independently from one another."
   ]
  },
  {
   "cell_type": "code",
   "execution_count": null,
   "id": "dfda5231",
   "metadata": {},
   "outputs": [],
   "source": [
    "# Create the matplotlib figure\n",
    "fig, (ax1, ax2) = plt.subplots(1, 2, figsize=(16, 8), sharey=True)\n",
    "\n",
    "rsgislib.tools.mapping.create_raster_img_map(\n",
    "    ax1,\n",
    "    input_img,\n",
    "    img_bands=[8, 9, 3],\n",
    "    img_stch=rsgislib.IMG_STRECTH_CUMULATIVE)\n",
    "ax1.title.set_text(\"Input Image\")\n",
    "\n",
    "# Add the segmentation output to the second axis.\n",
    "rsgislib.tools.mapping.create_thematic_raster_map(ax2, out_clumps_img)\n",
    "ax2.title.set_text(\"Segmentation Output\")\n"
   ]
  },
  {
   "cell_type": "markdown",
   "id": "7f4a8eba-0910-46be-a966-332d4f749126",
   "metadata": {},
   "source": [
    "Secondly, we can visualise the mean image, which an image file with the same bands as the input image but with each pixel have the mean value for the clump. \n",
    "\n",
    "What you should hopefully be able to see from the figure below is that the mean clumps image looks visually very similar to the original image but smoother. If you can see features which have disappeared (e.g., small areas of woodland or individual fields) in the mean clumps image then this might be an indication that the segmentation is not preserving all the features you are interested in. You could decrease the `min_n_pxls` value to allow smaller clumps to be retained or increase the `num_clusters` so the kMeans has more change of finding the region of the feature space you are interested in preserving and therefore bring it out as a final clump."
   ]
  },
  {
   "cell_type": "code",
   "execution_count": null,
   "id": "21908b91",
   "metadata": {
    "tags": []
   },
   "outputs": [],
   "source": [
    "# Create the matplotlib figure\n",
    "fig, (ax1, ax2) = plt.subplots(1, 2, figsize=(16, 8), sharey=True)\n",
    "\n",
    "# Specify the bands to be used for the visualisation.\n",
    "band_comb = [8, 9, 3]\n",
    "\n",
    "rsgislib.tools.mapping.create_raster_img_map(\n",
    "    ax1,\n",
    "    input_img,\n",
    "    img_bands=band_comb,\n",
    "    img_stch=rsgislib.IMG_STRETCH_STDEV)\n",
    "ax1.title.set_text(\"Input Image\")\n",
    "\n",
    "# Add the mean segments to the second axis.\n",
    "rsgislib.tools.mapping.create_raster_img_map(\n",
    "    ax2,\n",
    "    out_mean_img,\n",
    "    img_bands=band_comb,\n",
    "    img_stch=rsgislib.IMG_STRETCH_STDEV)\n",
    "ax2.title.set_text(\"Mean Clumps\")"
   ]
  },
  {
   "cell_type": "markdown",
   "id": "1b955791-13c5-4819-aacb-466a001e486e",
   "metadata": {},
   "source": [
    "## Create Vector Polygons for the Clumps\n",
    "\n",
    "In some cases it is also useful to have a vector set of polygons to work with and visualise the segmentation. To vectorise the segmentation we will use the `polygonise_raster_to_vec_lyr` function within the `rsgislib.vectorutils.createvectors` module.\n"
   ]
  },
  {
   "cell_type": "code",
   "execution_count": null,
   "id": "c308fab6",
   "metadata": {},
   "outputs": [],
   "source": [
    "import rsgislib.vectorutils.createvectors\n",
    "\n",
    "rsgislib.vectorutils.createvectors.polygonise_raster_to_vec_lyr(\n",
    "    out_vec_file=\"sen2_20210527_aber_segs.gpkg\", # The output vector file name and path\n",
    "    out_vec_lyr=\"sen2_20210527_aber_segs\",       # The output vector layer name\n",
    "    out_format=\"GPKG\",                           # The output vector format\n",
    "    input_img=out_clumps_img,                    # The input segmentation image\n",
    "    img_band=1,                                  # The band within the input image\n",
    "    mask_img=out_clumps_img,                     # A mask image (usually the same as the input image)\n",
    "    mask_band=1,                                 # The band within the mask image\n",
    ")"
   ]
  },
  {
   "cell_type": "markdown",
   "id": "c13dbf84-8704-4268-ae36-3861edb81163",
   "metadata": {},
   "source": [
    "### Visualise Segmentation Vector\n",
    "\n",
    "Clearly, opening `sen2_20210527_aber_segs.gpkg` within QGIS or a GIS application would be the best way to interactively visualise this data but we can also make a plot of this using python:\n"
   ]
  },
  {
   "cell_type": "code",
   "execution_count": null,
   "id": "ba8feb4b",
   "metadata": {},
   "outputs": [],
   "source": [
    "# Define a bbox for the subset to be displayed\n",
    "sub_img_bbox = [260000, 262000, 280000, 282000]\n",
    "\n",
    "# Import the geopandas module\n",
    "import geopandas\n",
    "\n",
    "# Use geopandas to read the vector layer\n",
    "segs_gdf = geopandas.read_file(\"sen2_20210527_aber_segs.gpkg\", layer=\"sen2_20210527_aber_segs\")\n",
    "\n",
    "# Create a plot using the matplotlib library\n",
    "fig, ax = plt.subplots(figsize=(10, 10))\n",
    "\n",
    "# Plot the polygons boundaries an edge colour of yellow. \n",
    "# i.e., just the polygon outlines in yellow.\n",
    "rsgislib.tools.mapping.create_vec_lyr_map(\n",
    "    ax,\n",
    "    segs_gdf.boundary,\n",
    "    bbox=sub_img_bbox,\n",
    "    title_str = \"Segmentation Output\",\n",
    "    vec_fill_clrs = \"yellow\",\n",
    "    vec_line_widths = 1.0,\n",
    ")\n",
    "rsgislib.tools.mapping.create_raster_img_map(\n",
    "    ax,\n",
    "    input_img,\n",
    "    img_bands=[8, 9, 3],\n",
    "    img_stch=rsgislib.IMG_STRETCH_STDEV,\n",
    "    bbox=sub_img_bbox,\n",
    "    show_scale_bar = True)\n"
   ]
  },
  {
   "cell_type": "code",
   "execution_count": null,
   "id": "3d1e6f34",
   "metadata": {},
   "outputs": [],
   "source": []
  },
  {
   "cell_type": "code",
   "execution_count": null,
   "id": "630b660f",
   "metadata": {},
   "outputs": [],
   "source": []
  }
 ],
 "metadata": {
  "kernelspec": {
   "display_name": "Python 3 (ipykernel)",
   "language": "python",
   "name": "python3"
  },
  "language_info": {
   "codemirror_mode": {
    "name": "ipython",
    "version": 3
   },
   "file_extension": ".py",
   "mimetype": "text/x-python",
   "name": "python",
   "nbconvert_exporter": "python",
   "pygments_lexer": "ipython3",
   "version": "3.10.9"
  }
 },
 "nbformat": 4,
 "nbformat_minor": 5
}
